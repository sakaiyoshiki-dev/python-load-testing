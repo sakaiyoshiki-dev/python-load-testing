{
 "cells": [
  {
   "cell_type": "code",
   "execution_count": 1,
   "metadata": {},
   "outputs": [],
   "source": [
    "import jax"
   ]
  },
  {
   "cell_type": "code",
   "execution_count": 3,
   "metadata": {},
   "outputs": [
    {
     "data": {
      "text/plain": [
       "[CudaDevice(id=0)]"
      ]
     },
     "execution_count": 3,
     "metadata": {},
     "output_type": "execute_result"
    }
   ],
   "source": [
    "devices = jax.devices()\n",
    "devices"
   ]
  },
  {
   "cell_type": "code",
   "execution_count": 4,
   "metadata": {},
   "outputs": [
    {
     "data": {
      "text/plain": [
       "'NVIDIA GeForce RTX 3060'"
      ]
     },
     "execution_count": 4,
     "metadata": {},
     "output_type": "execute_result"
    }
   ],
   "source": [
    "devices[0].device_kind"
   ]
  },
  {
   "cell_type": "code",
   "execution_count": 5,
   "metadata": {},
   "outputs": [
    {
     "name": "stdout",
     "output_type": "stream",
     "text": [
      "nvidia geforce rtx 3060\n"
     ]
    }
   ],
   "source": [
    "for device in devices:\n",
    "    print(device.device_kind.lower())"
   ]
  },
  {
   "cell_type": "code",
   "execution_count": 17,
   "metadata": {},
   "outputs": [
    {
     "name": "stdout",
     "output_type": "stream",
     "text": [
      "GPU calculation time: 1.578235 seconds\n",
      "CPU calculation time: 42.021768 seconds\n"
     ]
    }
   ],
   "source": [
    "import os\n",
    "os.environ[\"OPENBLAS_NUM_THREADS\"] = \"1\" # numpyに許可する並列化を制限\n",
    "\n",
    "import jax\n",
    "import jax.numpy as jnp\n",
    "import time\n",
    "\n",
    "# 大きな行列を作成\n",
    "size = 20000\n",
    "x = jnp.ones((size, size)) * 0.01\n",
    "\n",
    "# 計算の時間を測定する関数\n",
    "def measure_time(func):\n",
    "    start_time = time.perf_counter()\n",
    "    result = func()\n",
    "    end_time = time.perf_counter()\n",
    "    return result, end_time - start_time\n",
    "\n",
    "# CPUで計算\n",
    "def cpu_calculation():\n",
    "    ret = jax.device_put(x, device=jax.devices(\"cpu\")[0]) @ x\n",
    "    ret.block_until_ready()\n",
    "    return ret\n",
    "\n",
    "# GPUで計算\n",
    "def gpu_calculation():\n",
    "    ret = jax.device_put(x, device=jax.devices(\"gpu\")[0]) @ x\n",
    "    ret.block_until_ready()\n",
    "    return ret\n",
    "\n",
    "# GPUでの計算時間\n",
    "ret_gpu, gpu_time = measure_time(gpu_calculation)\n",
    "print(f\"GPU calculation time: {gpu_time:.6f} seconds\")\n",
    "\n",
    "# CPUでの計算時間\n",
    "ret_cpu, cpu_time = measure_time(cpu_calculation)\n",
    "print(f\"CPU calculation time: {cpu_time:.6f} seconds\")"
   ]
  },
  {
   "cell_type": "code",
   "execution_count": 11,
   "metadata": {},
   "outputs": [
    {
     "data": {
      "text/plain": [
       "(Array([[0.5001807, 0.5001807, 0.5001807, ..., 0.5001807, 0.5001807,\n",
       "         0.5001807],\n",
       "        [0.5001807, 0.5001807, 0.5001807, ..., 0.5001807, 0.5001807,\n",
       "         0.5001807],\n",
       "        [0.5001807, 0.5001807, 0.5001807, ..., 0.5001807, 0.5001807,\n",
       "         0.5001807],\n",
       "        ...,\n",
       "        [0.5001807, 0.5001807, 0.5001807, ..., 0.5001807, 0.5001807,\n",
       "         0.5001807],\n",
       "        [0.5001807, 0.5001807, 0.5001807, ..., 0.5001807, 0.5001807,\n",
       "         0.5001807],\n",
       "        [0.5001807, 0.5001807, 0.5001807, ..., 0.5001807, 0.5001807,\n",
       "         0.5001807]], dtype=float32),\n",
       " Array([[0.49999917, 0.49999917, 0.49999917, ..., 0.49999982, 0.49999982,\n",
       "         0.49999982],\n",
       "        [0.49999917, 0.49999917, 0.49999917, ..., 0.49999982, 0.49999982,\n",
       "         0.49999982],\n",
       "        [0.49999917, 0.49999917, 0.49999917, ..., 0.49999982, 0.49999982,\n",
       "         0.49999982],\n",
       "        ...,\n",
       "        [0.49999917, 0.49999917, 0.49999917, ..., 0.49999982, 0.49999982,\n",
       "         0.49999982],\n",
       "        [0.49999982, 0.49999982, 0.49999982, ..., 0.49999982, 0.49999982,\n",
       "         0.49999982],\n",
       "        [0.49999982, 0.49999982, 0.49999982, ..., 0.49999982, 0.49999982,\n",
       "         0.49999982]], dtype=float32))"
      ]
     },
     "execution_count": 11,
     "metadata": {},
     "output_type": "execute_result"
    }
   ],
   "source": [
    "ret_gpu, ret_cpu"
   ]
  },
  {
   "cell_type": "code",
   "execution_count": null,
   "metadata": {},
   "outputs": [],
   "source": []
  }
 ],
 "metadata": {
  "kernelspec": {
   "display_name": ".venv",
   "language": "python",
   "name": "python3"
  },
  "language_info": {
   "codemirror_mode": {
    "name": "ipython",
    "version": 3
   },
   "file_extension": ".py",
   "mimetype": "text/x-python",
   "name": "python",
   "nbconvert_exporter": "python",
   "pygments_lexer": "ipython3",
   "version": "3.12.3"
  }
 },
 "nbformat": 4,
 "nbformat_minor": 2
}
