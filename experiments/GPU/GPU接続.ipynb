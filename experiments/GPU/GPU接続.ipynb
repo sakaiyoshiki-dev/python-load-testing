{
 "cells": [
  {
   "cell_type": "code",
   "execution_count": 1,
   "metadata": {},
   "outputs": [],
   "source": [
    "import jax"
   ]
  },
  {
   "cell_type": "code",
   "execution_count": null,
   "metadata": {},
   "outputs": [],
   "source": [
    "devices = jax.devices()\n",
    "devices"
   ]
  },
  {
   "cell_type": "code",
   "execution_count": null,
   "metadata": {},
   "outputs": [],
   "source": [
    "devices[0].device_kind"
   ]
  },
  {
   "cell_type": "code",
   "execution_count": null,
   "metadata": {},
   "outputs": [],
   "source": [
    "for device in devices:\n",
    "    print(device.device_kind.lower())"
   ]
  },
  {
   "cell_type": "code",
   "execution_count": 1,
   "metadata": {},
   "outputs": [
    {
     "name": "stdout",
     "output_type": "stream",
     "text": [
      "GPU calculation time: 0.128017 seconds\n",
      "CPU calculation time: 0.999986 seconds\n"
     ]
    }
   ],
   "source": [
    "# import os\n",
    "# os.environ[\"XLA_FLAGS\"] = (\n",
    "#     \"--xla_cpu_multi_thread_eigen=false intra_op_parallelism_threads=1\"\n",
    "# )\n",
    "# # os.environ[\"OPENBLAS_NUM_THREADS\"] = \"1\"\n",
    "# os.environ[\"MKL_NUM_THREADS\"] = \"1\"\n",
    "# os.environ[\"OMP_NUM_THREAD\"] = \"1\"\n",
    "\n",
    "import jax\n",
    "import jax.numpy as jnp\n",
    "import time\n",
    "\n",
    "# 大きな行列を作成\n",
    "size = 10000\n",
    "x = jnp.ones((size, size)) * 0.01\n",
    "\n",
    "# 計算の時間を測定する関数\n",
    "def measure_time(func):\n",
    "    start_time = time.perf_counter()\n",
    "    result = func()\n",
    "    end_time = time.perf_counter()\n",
    "    return result, end_time - start_time\n",
    "\n",
    "# CPUで計算\n",
    "def cpu_calculation():\n",
    "    ret = jax.device_put(x, device=jax.devices(\"cpu\")[0]) @ x\n",
    "    ret.block_until_ready()\n",
    "    return ret\n",
    "\n",
    "# GPUで計算\n",
    "def gpu_calculation():\n",
    "    ret = jax.device_put(x, device=jax.devices(\"gpu\")[0]) @ x\n",
    "    ret.block_until_ready()\n",
    "    return ret\n",
    "\n",
    "# GPUでの計算時間\n",
    "ret_gpu, gpu_time = measure_time(gpu_calculation)\n",
    "print(f\"GPU calculation time: {gpu_time:.6f} seconds\")\n",
    "\n",
    "# CPUでの計算時間\n",
    "ret_cpu, cpu_time = measure_time(cpu_calculation)\n",
    "print(f\"CPU calculation time: {cpu_time:.6f} seconds\")"
   ]
  },
  {
   "cell_type": "code",
   "execution_count": null,
   "metadata": {},
   "outputs": [],
   "source": [
    "ret_gpu, ret_cpu"
   ]
  },
  {
   "cell_type": "code",
   "execution_count": null,
   "metadata": {},
   "outputs": [],
   "source": []
  }
 ],
 "metadata": {
  "kernelspec": {
   "display_name": ".venv",
   "language": "python",
   "name": "python3"
  },
  "language_info": {
   "codemirror_mode": {
    "name": "ipython",
    "version": 3
   },
   "file_extension": ".py",
   "mimetype": "text/x-python",
   "name": "python",
   "nbconvert_exporter": "python",
   "pygments_lexer": "ipython3",
   "version": "3.12.3"
  }
 },
 "nbformat": 4,
 "nbformat_minor": 2
}
