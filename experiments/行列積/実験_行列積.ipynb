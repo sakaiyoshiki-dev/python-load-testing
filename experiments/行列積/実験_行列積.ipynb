{
 "cells": [
  {
   "cell_type": "code",
   "execution_count": 1,
   "metadata": {},
   "outputs": [],
   "source": [
    "import os\n",
    "os.environ[\"OPENBLAS_NUM_THREADS\"] = \"1\" # numpyに許可する並列化を制限\n",
    "\n",
    "import numpy as np\n",
    "import matrix_product as mp\n"
   ]
  },
  {
   "cell_type": "code",
   "execution_count": 2,
   "metadata": {},
   "outputs": [
    {
     "name": "stdout",
     "output_type": "stream",
     "text": [
      "numba njit\n"
     ]
    },
    {
     "name": "stderr",
     "output_type": "stream",
     "text": [
      "/home/sakaiyoshiki/projects/python-load-testing/.venv/lib/python3.12/site-packages/numba/core/typed_passes.py:336: NumbaPerformanceWarning: \n",
      "The keyword argument 'parallel=True' was specified but no transformation for parallel execution was possible.\n",
      "\n",
      "To find out why, try turning on parallel diagnostics, see https://numba.readthedocs.io/en/stable/user/parallel.html#diagnostics for help.\n",
      "\n",
      "File \"matrix_product.py\", line 8:\n",
      "@njit(parallel=True, cache=True)\n",
      "def repeat_matrix_products_jitted(matrix: np.ndarray, n_repeat: int) -> np.ndarray:\n",
      "^\n",
      "\n",
      "  warnings.warn(errors.NumbaPerformanceWarning(msg,\n"
     ]
    }
   ],
   "source": [
    "print(\"numba njit\")\n",
    "experiment_sizes = [\n",
    "    (5_000, 1),\n",
    "    (500, 1_000),\n",
    "    (50, 1_000_000),\n",
    "    (25, 10_000_000),\n",
    "]\n",
    "perf_results = mp.experiments(experiment_sizes=experiment_sizes, repeat_matrix_products=mp.repeat_matrix_products_jitted)"
   ]
  },
  {
   "cell_type": "code",
   "execution_count": null,
   "metadata": {},
   "outputs": [],
   "source": [
    "print(\"通常\")\n",
    "experiment_sizes = [\n",
    "    (5_000, 1),\n",
    "    (500, 1_000),\n",
    "    (50, 1_000_000),\n",
    "    (25, 10_000_000),\n",
    "]\n",
    "perf_results = mp.experiments(experiment_sizes=experiment_sizes, repeat_matrix_products=mp.repeat_matrix_products)"
   ]
  }
 ],
 "metadata": {
  "kernelspec": {
   "display_name": ".venv",
   "language": "python",
   "name": "python3"
  },
  "language_info": {
   "codemirror_mode": {
    "name": "ipython",
    "version": 3
   },
   "file_extension": ".py",
   "mimetype": "text/x-python",
   "name": "python",
   "nbconvert_exporter": "python",
   "pygments_lexer": "ipython3",
   "version": "3.12.3"
  }
 },
 "nbformat": 4,
 "nbformat_minor": 2
}
