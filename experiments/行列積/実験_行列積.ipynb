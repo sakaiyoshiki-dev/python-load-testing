{
 "cells": [
  {
   "cell_type": "code",
   "execution_count": 7,
   "metadata": {},
   "outputs": [],
   "source": [
    "import os\n",
    "os.environ[\"OPENBLAS_NUM_THREADS\"] = \"1\" # numpyに許可する並列化を制限\n",
    "\n",
    "import numpy as np\n",
    "import matrix_product as mp\n"
   ]
  },
  {
   "cell_type": "code",
   "execution_count": 8,
   "metadata": {},
   "outputs": [
    {
     "name": "stdout",
     "output_type": "stream",
     "text": [
      "JAX JIT2\n",
      "perf_results[(n_size, n_iter)]=0.49 sec.\n",
      "perf_results[(n_size, n_iter)]=0.54 sec.\n",
      "perf_results[(n_size, n_iter)]=20.09 sec.\n"
     ]
    }
   ],
   "source": [
    "print(\"JAX JIT2\")\n",
    "experiment_sizes = [\n",
    "    (5_000, 1),\n",
    "    (500, 1_000),\n",
    "    (50, 1_000_000),\n",
    "]\n",
    "perf_results = mp.experiments(experiment_sizes=experiment_sizes, repeat_matrix_products=mp.repeat_matrix_products_jaxjitted2)"
   ]
  },
  {
   "cell_type": "code",
   "execution_count": 9,
   "metadata": {},
   "outputs": [
    {
     "name": "stdout",
     "output_type": "stream",
     "text": [
      "JAX JIT\n",
      "perf_results[(n_size, n_iter)]=0.48 sec.\n",
      "perf_results[(n_size, n_iter)]=0.46 sec.\n"
     ]
    }
   ],
   "source": [
    "print(\"JAX JIT\")\n",
    "experiment_sizes = [\n",
    "    (5_000, 1),\n",
    "    (500, 1_000),\n",
    "    # (50, 1_000_000),  # メモリ不足クラッシュする\n",
    "]\n",
    "perf_results = mp.experiments(experiment_sizes=experiment_sizes, repeat_matrix_products=mp.repeat_matrix_products_jaxjitted)"
   ]
  },
  {
   "cell_type": "code",
   "execution_count": 10,
   "metadata": {},
   "outputs": [
    {
     "name": "stdout",
     "output_type": "stream",
     "text": [
      "JAX\n",
      "perf_results[(n_size, n_iter)]=0.46 sec.\n",
      "perf_results[(n_size, n_iter)]=0.55 sec.\n",
      "perf_results[(n_size, n_iter)]=7.96 sec.\n"
     ]
    }
   ],
   "source": [
    "print(\"JAX\")\n",
    "experiment_sizes = [\n",
    "    (5_000, 1),\n",
    "    (500, 1_000),\n",
    "    (50, 1_000_000),\n",
    "]\n",
    "perf_results = mp.experiments(experiment_sizes=experiment_sizes, repeat_matrix_products=mp.repeat_matrix_products_jax)"
   ]
  },
  {
   "cell_type": "code",
   "execution_count": 11,
   "metadata": {},
   "outputs": [
    {
     "name": "stdout",
     "output_type": "stream",
     "text": [
      "numba njit\n",
      "perf_results[(n_size, n_iter)]=4.00 sec.\n",
      "perf_results[(n_size, n_iter)]=4.22 sec.\n",
      "perf_results[(n_size, n_iter)]=7.12 sec.\n"
     ]
    }
   ],
   "source": [
    "print(\"numba njit\")\n",
    "experiment_sizes = [\n",
    "    (5_000, 1),\n",
    "    (500, 1_000),\n",
    "    (50, 1_000_000),\n",
    "]\n",
    "perf_results = mp.experiments(experiment_sizes=experiment_sizes, repeat_matrix_products=mp.repeat_matrix_products_jitted)"
   ]
  },
  {
   "cell_type": "code",
   "execution_count": 12,
   "metadata": {},
   "outputs": [
    {
     "name": "stdout",
     "output_type": "stream",
     "text": [
      "通常\n",
      "perf_results[(n_size, n_iter)]=4.02 sec.\n",
      "perf_results[(n_size, n_iter)]=4.17 sec.\n",
      "perf_results[(n_size, n_iter)]=7.74 sec.\n"
     ]
    }
   ],
   "source": [
    "print(\"通常\")\n",
    "experiment_sizes = [\n",
    "    (5_000, 1),\n",
    "    (500, 1_000),\n",
    "    (50, 1_000_000),\n",
    "]\n",
    "perf_results = mp.experiments(experiment_sizes=experiment_sizes, repeat_matrix_products=mp.repeat_matrix_products)"
   ]
  },
  {
   "cell_type": "code",
   "execution_count": null,
   "metadata": {},
   "outputs": [],
   "source": []
  }
 ],
 "metadata": {
  "kernelspec": {
   "display_name": ".venv",
   "language": "python",
   "name": "python3"
  },
  "language_info": {
   "codemirror_mode": {
    "name": "ipython",
    "version": 3
   },
   "file_extension": ".py",
   "mimetype": "text/x-python",
   "name": "python",
   "nbconvert_exporter": "python",
   "pygments_lexer": "ipython3",
   "version": "3.12.3"
  }
 },
 "nbformat": 4,
 "nbformat_minor": 2
}
