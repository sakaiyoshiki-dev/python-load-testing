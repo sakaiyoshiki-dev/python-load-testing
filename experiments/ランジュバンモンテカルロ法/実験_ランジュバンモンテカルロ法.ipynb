{
 "cells": [
  {
   "cell_type": "code",
   "execution_count": 10,
   "metadata": {},
   "outputs": [],
   "source": [
    "import numpy as np\n",
    "import matplotlib.pyplot as plt\n",
    "from numba import njit\n",
    "import time\n",
    "\n",
    "# パラメータ\n",
    "n_samples = 10000000  # サンプル数\n",
    "mu = 0             # 平均\n",
    "sigma = 1          # 標準偏差\n",
    "dt = 0.1           # タイムステップ\n",
    "gamma = 0.1        # 摩擦係数\n",
    "\n",
    "@njit\n",
    "def langevin_monte_carlo_jitted(n_samples, mu, sigma, dt, gamma):\n",
    "    samples = np.empty(n_samples)\n",
    "    current_state = np.random.randn()\n",
    "    \n",
    "    for i in range(n_samples):\n",
    "        gradient = (current_state - mu) / (sigma ** 2)\n",
    "        noise = np.random.normal(0, np.sqrt(dt))\n",
    "        current_state += -gamma * gradient * dt + noise\n",
    "        samples[i] = current_state\n",
    "        \n",
    "    return samples\n",
    "\n",
    "def langevin_monte_carlo(n_samples, mu, sigma, dt, gamma):\n",
    "    samples = np.empty(n_samples)\n",
    "    current_state = np.random.randn()\n",
    "    \n",
    "    for i in range(n_samples):\n",
    "        gradient = (current_state - mu) / (sigma ** 2)\n",
    "        noise = np.random.normal(0, np.sqrt(dt))\n",
    "        current_state += -gamma * gradient * dt + noise\n",
    "        samples[i] = current_state\n",
    "        \n",
    "    return samples"
   ]
  },
  {
   "cell_type": "code",
   "execution_count": 11,
   "metadata": {},
   "outputs": [
    {
     "name": "stdout",
     "output_type": "stream",
     "text": [
      "13.61 sec.\n"
     ]
    }
   ],
   "source": [
    "# MCMCの実行\n",
    "start = time.perf_counter()\n",
    "samples = langevin_monte_carlo(n_samples, mu, sigma, dt, gamma)\n",
    "end = time.perf_counter()  # 計測終了\n",
    "print(f\"{end-start:.2f} sec.\")"
   ]
  },
  {
   "cell_type": "code",
   "execution_count": 12,
   "metadata": {},
   "outputs": [
    {
     "name": "stdout",
     "output_type": "stream",
     "text": [
      "0.28 sec.\n"
     ]
    }
   ],
   "source": [
    "# MCMCの実行\n",
    "start = time.perf_counter()\n",
    "samples = langevin_monte_carlo_jitted(n_samples, mu, sigma, dt, gamma)\n",
    "end = time.perf_counter()  # 計測終了\n",
    "print(f\"{end-start:.2f} sec.\")"
   ]
  },
  {
   "cell_type": "markdown",
   "metadata": {},
   "source": [
    "約50倍の高速化が達成できている。"
   ]
  },
  {
   "cell_type": "code",
   "execution_count": 4,
   "metadata": {},
   "outputs": [
    {
     "ename": "NameError",
     "evalue": "name 'samples' is not defined",
     "output_type": "error",
     "traceback": [
      "\u001b[0;31m---------------------------------------------------------------------------\u001b[0m",
      "\u001b[0;31mNameError\u001b[0m                                 Traceback (most recent call last)",
      "Cell \u001b[0;32mIn[4], line 2\u001b[0m\n\u001b[1;32m      1\u001b[0m \u001b[38;5;66;03m# サンプルのヒストグラムをプロット\u001b[39;00m\n\u001b[0;32m----> 2\u001b[0m plt\u001b[38;5;241m.\u001b[39mhist(\u001b[43msamples\u001b[49m, bins\u001b[38;5;241m=\u001b[39m\u001b[38;5;241m30\u001b[39m, density\u001b[38;5;241m=\u001b[39m\u001b[38;5;28;01mTrue\u001b[39;00m, alpha\u001b[38;5;241m=\u001b[39m\u001b[38;5;241m0.6\u001b[39m, color\u001b[38;5;241m=\u001b[39m\u001b[38;5;124m'\u001b[39m\u001b[38;5;124mg\u001b[39m\u001b[38;5;124m'\u001b[39m)\n\u001b[1;32m      4\u001b[0m \u001b[38;5;66;03m# 理論的な正規分布をプロット\u001b[39;00m\n\u001b[1;32m      5\u001b[0m x \u001b[38;5;241m=\u001b[39m np\u001b[38;5;241m.\u001b[39mlinspace(\u001b[38;5;241m-\u001b[39m\u001b[38;5;241m4\u001b[39m, \u001b[38;5;241m4\u001b[39m, \u001b[38;5;241m100\u001b[39m)\n",
      "\u001b[0;31mNameError\u001b[0m: name 'samples' is not defined"
     ]
    }
   ],
   "source": [
    "# サンプルのヒストグラムをプロット\n",
    "plt.hist(samples, bins=30, density=True, alpha=0.6, color='g')\n",
    "\n",
    "# 理論的な正規分布をプロット\n",
    "x = np.linspace(-4, 4, 100)\n",
    "plt.plot(x, (1/(sigma * np.sqrt(2 * np.pi))) * np.exp(-0.5 * ((x - mu) / sigma)**2), color='r')\n",
    "plt.title('Langevin Monte Carlo Sample from Normal Distribution (Numba)')\n",
    "plt.xlabel('Value')\n",
    "plt.ylabel('Density')\n",
    "plt.show()"
   ]
  },
  {
   "cell_type": "code",
   "execution_count": null,
   "metadata": {},
   "outputs": [],
   "source": []
  }
 ],
 "metadata": {
  "kernelspec": {
   "display_name": ".venv",
   "language": "python",
   "name": "python3"
  },
  "language_info": {
   "codemirror_mode": {
    "name": "ipython",
    "version": 3
   },
   "file_extension": ".py",
   "mimetype": "text/x-python",
   "name": "python",
   "nbconvert_exporter": "python",
   "pygments_lexer": "ipython3",
   "version": "3.12.3"
  }
 },
 "nbformat": 4,
 "nbformat_minor": 2
}
