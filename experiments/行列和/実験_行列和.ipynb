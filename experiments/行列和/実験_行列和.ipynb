{
 "cells": [
  {
   "cell_type": "code",
   "execution_count": 1,
   "metadata": {},
   "outputs": [],
   "source": [
    "import os\n",
    "os.environ[\"OPENBLAS_NUM_THREADS\"] = \"1\" # numpyに許可する並列化を制限\n",
    "\n",
    "import numpy as np\n",
    "import matrix_sum as msum\n"
   ]
  },
  {
   "cell_type": "code",
   "execution_count": 2,
   "metadata": {},
   "outputs": [
    {
     "name": "stdout",
     "output_type": "stream",
     "text": [
      "JAX\n"
     ]
    },
    {
     "name": "stderr",
     "output_type": "stream",
     "text": [
      "An NVIDIA GPU may be present on this machine, but a CUDA-enabled jaxlib is not installed. Falling back to cpu.\n"
     ]
    },
    {
     "name": "stdout",
     "output_type": "stream",
     "text": [
      "perf_results[(n_size, n_iter)]=0.36 sec.\n",
      "perf_results[(n_size, n_iter)]=0.20 sec.\n"
     ]
    },
    {
     "name": "stderr",
     "output_type": "stream",
     "text": [
      "/home/sakaiyoshiki/projects/python-load-testing/experiments/行列和/matrix_sum.py:13: RuntimeWarning: overflow encountered in add\n",
      "  m += matrix\n"
     ]
    },
    {
     "name": "stdout",
     "output_type": "stream",
     "text": [
      "perf_results[(n_size, n_iter)]=2.28 sec.\n",
      "perf_results[(n_size, n_iter)]=8.35 sec.\n"
     ]
    }
   ],
   "source": [
    "print(\"JAX\")\n",
    "experiment_sizes = [\n",
    "    (10_000, 1),\n",
    "    (1_000, 1_000),\n",
    "    (100, 1_000_000),\n",
    "    (50, 10_000_000),\n",
    "]\n",
    "perf_results = msum.experiments(experiment_sizes=experiment_sizes, repeat_matrix_sum=msum.repeat_matrix_sum_jax)"
   ]
  },
  {
   "cell_type": "code",
   "execution_count": 5,
   "metadata": {},
   "outputs": [
    {
     "name": "stdout",
     "output_type": "stream",
     "text": [
      "numba njit\n",
      "perf_results[(n_size, n_iter)]=0.09 sec.\n",
      "perf_results[(n_size, n_iter)]=0.13 sec.\n",
      "perf_results[(n_size, n_iter)]=1.28 sec.\n",
      "perf_results[(n_size, n_iter)]=2.32 sec.\n"
     ]
    }
   ],
   "source": [
    "print(\"numba njit\")\n",
    "experiment_sizes = [\n",
    "    (10_000, 1),\n",
    "    (1_000, 1_000),\n",
    "    (100, 1_000_000),\n",
    "    (50, 10_000_000),\n",
    "]\n",
    "perf_results = msum.experiments(experiment_sizes=experiment_sizes, repeat_matrix_sum=msum.repeat_matrix_sum_jitted)"
   ]
  },
  {
   "cell_type": "code",
   "execution_count": 6,
   "metadata": {},
   "outputs": [
    {
     "name": "stdout",
     "output_type": "stream",
     "text": [
      "通常\n",
      "perf_results[(n_size, n_iter)]=0.08 sec.\n",
      "perf_results[(n_size, n_iter)]=0.19 sec.\n"
     ]
    },
    {
     "name": "stderr",
     "output_type": "stream",
     "text": [
      "/home/sakaiyoshiki/projects/python-load-testing/experiments/行列和/matrix_sum.py:30: RuntimeWarning: overflow encountered in add\n",
      "  m += matrix\n"
     ]
    },
    {
     "name": "stdout",
     "output_type": "stream",
     "text": [
      "perf_results[(n_size, n_iter)]=2.18 sec.\n",
      "perf_results[(n_size, n_iter)]=8.07 sec.\n"
     ]
    }
   ],
   "source": [
    "print(\"通常\")\n",
    "experiment_sizes = [\n",
    "    (10_000, 1),\n",
    "    (1_000, 1_000),\n",
    "    (100, 1_000_000),\n",
    "    (50, 10_000_000),\n",
    "]\n",
    "perf_results = msum.experiments(experiment_sizes=experiment_sizes, repeat_matrix_sum=msum.repeat_matrix_sum)"
   ]
  },
  {
   "cell_type": "code",
   "execution_count": null,
   "metadata": {},
   "outputs": [],
   "source": []
  }
 ],
 "metadata": {
  "kernelspec": {
   "display_name": ".venv",
   "language": "python",
   "name": "python3"
  },
  "language_info": {
   "codemirror_mode": {
    "name": "ipython",
    "version": 3
   },
   "file_extension": ".py",
   "mimetype": "text/x-python",
   "name": "python",
   "nbconvert_exporter": "python",
   "pygments_lexer": "ipython3",
   "version": "3.12.3"
  }
 },
 "nbformat": 4,
 "nbformat_minor": 2
}
